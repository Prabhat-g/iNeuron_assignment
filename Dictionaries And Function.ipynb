{
  "nbformat": 4,
  "nbformat_minor": 0,
  "metadata": {
    "colab": {
      "name": "Assignment 4.ipynb",
      "provenance": []
    },
    "kernelspec": {
      "name": "python3",
      "display_name": "Python 3"
    },
    "language_info": {
      "name": "python"
    }
  },
  "cells": [
    {
      "cell_type": "code",
      "metadata": {
        "id": "fqrKXPJfjZ6n"
      },
      "source": [
        "#Q1 FInd the area of triangle"
      ],
      "execution_count": null,
      "outputs": []
    },
    {
      "cell_type": "code",
      "metadata": {
        "colab": {
          "base_uri": "https://localhost:8080/"
        },
        "id": "XR-OsKsmj2hm",
        "outputId": "3f853cc6-74a7-4f19-b12a-ac3ca74ef82e"
      },
      "source": [
        "class triangle():\n",
        "\n",
        "  global a,b,c\n",
        "\n",
        "  a = int(input('Enter the value of first side of triangle : '))\n",
        "  b = int(input('Enter the value of second side of triangle : '))\n",
        "  c = int(input('Enter the value of third side of triangle : '))\n",
        "\n",
        "  def __init__(self):\n",
        "\n",
        "    self.a = a\n",
        "    self.b = b\n",
        "    self.c = c\n",
        "\n",
        "\n",
        "class triangel_attributes(triangle):\n",
        "\n",
        "  def __init__(self):\n",
        "\n",
        "    self.p = a\n",
        "    self.q = b\n",
        "    self.r = c\n",
        "\n",
        "  def findArea(self):\n",
        "\n",
        "    s = (self.p + self.q + self.r)/2\n",
        "    area = (s*(s-self.p)*(s-self.q)*(s-self.r))**0.5\n",
        "    return area\n",
        "\n"
      ],
      "execution_count": null,
      "outputs": [
        {
          "name": "stdout",
          "output_type": "stream",
          "text": [
            "Enter the value of first side of triangle : 3\n",
            "Enter the value of second side of triangle : 4\n",
            "Enter the value of third side of triangle : 5\n"
          ]
        }
      ]
    },
    {
      "cell_type": "code",
      "metadata": {
        "id": "vdn1TXofj3Je"
      },
      "source": [
        "result = triangel_attributes()"
      ],
      "execution_count": null,
      "outputs": []
    },
    {
      "cell_type": "code",
      "metadata": {
        "colab": {
          "base_uri": "https://localhost:8080/"
        },
        "id": "RZrIpfHnj3L9",
        "outputId": "4bb365c9-0ed1-4176-e8d7-4f0602937986"
      },
      "source": [
        "result.findArea()"
      ],
      "execution_count": null,
      "outputs": [
        {
          "output_type": "execute_result",
          "data": {
            "text/plain": [
              "6.0"
            ]
          },
          "metadata": {},
          "execution_count": 8
        }
      ]
    },
    {
      "cell_type": "code",
      "metadata": {
        "id": "p_FZ7YUWj3OB"
      },
      "source": [
        ""
      ],
      "execution_count": null,
      "outputs": []
    },
    {
      "cell_type": "code",
      "metadata": {
        "id": "CrCC1egkj3Rf"
      },
      "source": [
        "#Q Write a function filter_long_words() that takes a list of words and an integer n and returns the list of words that are longer than n."
      ],
      "execution_count": null,
      "outputs": []
    },
    {
      "cell_type": "code",
      "metadata": {
        "id": "Ytu5BRJ_muaz"
      },
      "source": [
        "def filter_long_words(li,n):\n",
        "  return [word for word in li if len(word)>n]"
      ],
      "execution_count": null,
      "outputs": []
    },
    {
      "cell_type": "code",
      "metadata": {
        "colab": {
          "base_uri": "https://localhost:8080/"
        },
        "id": "pbItkEQ-m_W_",
        "outputId": "0088b0cd-1d19-4a25-a846-3cb3d82becfa"
      },
      "source": [
        "filter_long_words(['dwde','ehdbtye','wegtfzrrsj','edttgr','frutguq','utwydvwe' ,'weutrwy'], 4)"
      ],
      "execution_count": null,
      "outputs": [
        {
          "output_type": "execute_result",
          "data": {
            "text/plain": [
              "['ehdbtye', 'wegtfzrrsj', 'edttgr', 'frutguq', 'utwydvwe', 'weutrwy']"
            ]
          },
          "metadata": {},
          "execution_count": 15
        }
      ]
    },
    {
      "cell_type": "code",
      "metadata": {
        "id": "2iMtMBolnMuu"
      },
      "source": [
        ""
      ],
      "execution_count": null,
      "outputs": []
    },
    {
      "cell_type": "code",
      "metadata": {
        "id": "Bs-xWG_joFI6"
      },
      "source": [
        ""
      ],
      "execution_count": null,
      "outputs": []
    },
    {
      "cell_type": "code",
      "metadata": {
        "id": "tbB-q_fLoFMa"
      },
      "source": [
        "#2.1 Write a Python program using function concept that maps list of words into a list of integers representing the lengths of the corresponding words."
      ],
      "execution_count": null,
      "outputs": []
    },
    {
      "cell_type": "code",
      "metadata": {
        "id": "80Kjmu9ynWUX"
      },
      "source": [
        "def findLen(word):\n",
        "  return len(word)\n",
        "  "
      ],
      "execution_count": null,
      "outputs": []
    },
    {
      "cell_type": "code",
      "metadata": {
        "id": "1PBl0Nk3nzb1"
      },
      "source": [
        "li = ['dwde','ehdbtye','wegtfzrrsj','edttgr','frutguq','utwydvwe' ,'weutrwy']"
      ],
      "execution_count": null,
      "outputs": []
    },
    {
      "cell_type": "code",
      "metadata": {
        "id": "mT-xlaYxnWW-"
      },
      "source": [
        "result = list(map(findLen,li ))"
      ],
      "execution_count": null,
      "outputs": []
    },
    {
      "cell_type": "code",
      "metadata": {
        "colab": {
          "base_uri": "https://localhost:8080/"
        },
        "id": "sQglwhwHnWYl",
        "outputId": "a4491663-b284-47e1-b72a-810825cfc346"
      },
      "source": [
        "result"
      ],
      "execution_count": null,
      "outputs": [
        {
          "output_type": "execute_result",
          "data": {
            "text/plain": [
              "[4, 7, 10, 6, 7, 8, 7]"
            ]
          },
          "metadata": {},
          "execution_count": 19
        }
      ]
    },
    {
      "cell_type": "code",
      "metadata": {
        "id": "6vLNC47QnWb9"
      },
      "source": [
        ""
      ],
      "execution_count": null,
      "outputs": []
    },
    {
      "cell_type": "code",
      "metadata": {
        "id": "M-lsbIDVoBFM"
      },
      "source": [
        "#2.2 Write a Python function which takes a character (i.e. a string of length 1) and returns True if it is a vowel, False otherwise."
      ],
      "execution_count": null,
      "outputs": []
    },
    {
      "cell_type": "code",
      "metadata": {
        "id": "t-jRqYv0oBHx"
      },
      "source": [
        "def isVowel(c):\n",
        "  vowel = ['a','e','i','o','u']\n",
        "  return c.lower() in vowel"
      ],
      "execution_count": null,
      "outputs": []
    },
    {
      "cell_type": "code",
      "metadata": {
        "colab": {
          "base_uri": "https://localhost:8080/"
        },
        "id": "pXUJ3ivvoBKd",
        "outputId": "b5e657a4-ec27-431d-cf50-2a2279e69901"
      },
      "source": [
        "isVowel('A')"
      ],
      "execution_count": null,
      "outputs": [
        {
          "output_type": "execute_result",
          "data": {
            "text/plain": [
              "True"
            ]
          },
          "metadata": {},
          "execution_count": 25
        }
      ]
    },
    {
      "cell_type": "code",
      "metadata": {
        "id": "eKp1mxKSoBOU"
      },
      "source": [
        ""
      ],
      "execution_count": null,
      "outputs": []
    }
  ]
}