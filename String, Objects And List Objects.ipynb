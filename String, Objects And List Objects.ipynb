{
  "nbformat": 4,
  "nbformat_minor": 0,
  "metadata": {
    "colab": {
      "name": "Assgnment2.ipynb",
      "provenance": []
    },
    "kernelspec": {
      "name": "python3",
      "display_name": "Python 3"
    },
    "language_info": {
      "name": "python"
    }
  },
  "cells": [
    {
      "cell_type": "code",
      "metadata": {
        "id": "LlukJlJveL53"
      },
      "source": [
        ""
      ],
      "execution_count": null,
      "outputs": []
    },
    {
      "cell_type": "markdown",
      "metadata": {
        "id": "IgDirEBleT0u"
      },
      "source": [
        "Q1. Create the below pattern using nested for loop in Python.\n",
        "\n",
        "\n",
        "\n"
      ]
    },
    {
      "cell_type": "code",
      "metadata": {
        "colab": {
          "base_uri": "https://localhost:8080/"
        },
        "id": "Hah1vEo1eVbx",
        "outputId": "b087970d-ddfd-4371-ca5a-ee4e711237fb"
      },
      "source": [
        "for i in range(1,6):\n",
        "  for j in range(1,i+1):\n",
        "    print('*', end=' ')\n",
        "  print('')\n",
        "for i in range(5,1,-1):\n",
        "  for j in range(0,i-1):\n",
        "    print('*', end=' ')\n",
        "  print('')\n"
      ],
      "execution_count": null,
      "outputs": [
        {
          "output_type": "stream",
          "name": "stdout",
          "text": [
            "* \n",
            "* * \n",
            "* * * \n",
            "* * * * \n",
            "* * * * * \n",
            "* * * * \n",
            "* * * \n",
            "* * \n",
            "* \n"
          ]
        }
      ]
    },
    {
      "cell_type": "code",
      "metadata": {
        "colab": {
          "base_uri": "https://localhost:8080/"
        },
        "id": "dAgwS1ysn1Dx",
        "outputId": "7b8e2be6-c2e4-45a7-87e0-57db57e36e38"
      },
      "source": [
        "for i in range(1,10):\n",
        "  if i<6:\n",
        "    print('* '*i)\n",
        "  else:\n",
        "    print('* '*(10-i))\n"
      ],
      "execution_count": null,
      "outputs": [
        {
          "output_type": "stream",
          "name": "stdout",
          "text": [
            "* \n",
            "* * \n",
            "* * * \n",
            "* * * * \n",
            "* * * * * \n",
            "* * * * \n",
            "* * * \n",
            "* * \n",
            "* \n"
          ]
        }
      ]
    },
    {
      "cell_type": "markdown",
      "metadata": {
        "id": "gDmTWnkfvvXa"
      },
      "source": [
        "Q2.Write a Python program to reverse a word after accepting the input from the user."
      ]
    },
    {
      "cell_type": "code",
      "metadata": {
        "id": "ry7dOyu8uyfH"
      },
      "source": [
        "def reverse_word():\n",
        "  word = input()\n",
        "  print('The reversed string of ',word, 'is : ',word[::-1])"
      ],
      "execution_count": null,
      "outputs": []
    },
    {
      "cell_type": "code",
      "metadata": {
        "colab": {
          "base_uri": "https://localhost:8080/"
        },
        "id": "t6KB-gokv4bd",
        "outputId": "86898758-6190-4c73-91db-fb538d5a970d"
      },
      "source": [
        "reverse_word()"
      ],
      "execution_count": null,
      "outputs": [
        {
          "output_type": "stream",
          "name": "stdout",
          "text": [
            "edcba\n",
            "The reversed string of  edcba is :  abcde\n"
          ]
        }
      ]
    },
    {
      "cell_type": "code",
      "metadata": {
        "id": "mVrYRGuZv-3U"
      },
      "source": [
        ""
      ],
      "execution_count": null,
      "outputs": []
    }
  ]
}