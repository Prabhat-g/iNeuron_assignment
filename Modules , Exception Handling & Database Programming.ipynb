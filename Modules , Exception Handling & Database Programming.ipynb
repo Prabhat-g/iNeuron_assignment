{
  "nbformat": 4,
  "nbformat_minor": 0,
  "metadata": {
    "colab": {
      "name": "Exceptional_handling.ipynb",
      "provenance": []
    },
    "kernelspec": {
      "name": "python3",
      "display_name": "Python 3"
    },
    "language_info": {
      "name": "python"
    }
  },
  "cells": [
    {
      "cell_type": "code",
      "metadata": {
        "id": "wfFd9W_2El9n"
      },
      "source": [
        "# Q 1. Write a function to compute 5/0 and use try/except to catch the exceptions."
      ],
      "execution_count": null,
      "outputs": []
    },
    {
      "cell_type": "code",
      "metadata": {
        "colab": {
          "base_uri": "https://localhost:8080/"
        },
        "id": "vl_V12LZFLA8",
        "outputId": "3961bac2-ac3d-49d5-a93b-50fef47f4a4b"
      },
      "source": [
        "a = int(input('Enter the value of a : '))\n",
        "b = int(input('Enter the value of b : '))\n",
        "\n",
        "try:\n",
        "  result = a/b\n",
        "\n",
        "except:\n",
        "  print('Something wrong with try block.')\n",
        "\n",
        "else:\n",
        "  print('Try block ran successfully.')\n",
        "\n",
        "finally:\n",
        "  print('Task completed...!')"
      ],
      "execution_count": null,
      "outputs": [
        {
          "output_type": "stream",
          "name": "stdout",
          "text": [
            "Enter the value of a : 3\n",
            "Enter the value of b : 0\n",
            "Something wrong with try block.\n",
            "Task completed...!\n"
          ]
        }
      ]
    },
    {
      "cell_type": "code",
      "metadata": {
        "id": "lWibZfDXFLbQ"
      },
      "source": [
        "#Q 2.Implement a Python program to generate all sentences where subject is in [\"Americans\", \"Indians\"] and verb is in [\"Play\", \"watch\"] and the object is in [\"Baseball\",\"cricket\"]."
      ],
      "execution_count": null,
      "outputs": []
    },
    {
      "cell_type": "code",
      "metadata": {
        "id": "hQ-4J8ICFLe0"
      },
      "source": [
        ""
      ],
      "execution_count": null,
      "outputs": []
    },
    {
      "cell_type": "code",
      "metadata": {
        "id": "nbrkvrp7G1uj"
      },
      "source": [
        "subjects=[\"Americans \",\"Indians\"]\n",
        "verbs=[\"play\",\"watch\"]\n",
        "objects=[\"Baseball\",\"Cricket\"]"
      ],
      "execution_count": null,
      "outputs": []
    },
    {
      "cell_type": "code",
      "metadata": {
        "colab": {
          "base_uri": "https://localhost:8080/"
        },
        "id": "FkArc8_SG1xK",
        "outputId": "ea2a8b0a-9521-41f1-eb5a-f199dcb73e66"
      },
      "source": [
        "for sub in subjects:\n",
        "  for verb in verbs:\n",
        "    for obj in objects:\n",
        "      print(sub,' ',verb,' ',obj)"
      ],
      "execution_count": null,
      "outputs": [
        {
          "output_type": "stream",
          "name": "stdout",
          "text": [
            "Americans    play   Baseball\n",
            "Americans    play   Cricket\n",
            "Americans    watch   Baseball\n",
            "Americans    watch   Cricket\n",
            "Indians   play   Baseball\n",
            "Indians   play   Cricket\n",
            "Indians   watch   Baseball\n",
            "Indians   watch   Cricket\n"
          ]
        }
      ]
    },
    {
      "cell_type": "code",
      "metadata": {
        "colab": {
          "base_uri": "https://localhost:8080/"
        },
        "id": "16KooiAHG10s",
        "outputId": "4516f012-6e13-4ce6-c057-dbb3979acf2f"
      },
      "source": [
        "([(sub+\" \"+verb+\" \"+obj) for sub in subjects for verb in verbs for obj in objects])"
      ],
      "execution_count": null,
      "outputs": [
        {
          "output_type": "execute_result",
          "data": {
            "text/plain": [
              "['Americans  play Baseball',\n",
              " 'Americans  play Cricket',\n",
              " 'Americans  watch Baseball',\n",
              " 'Americans  watch Cricket',\n",
              " 'Indians play Baseball',\n",
              " 'Indians play Cricket',\n",
              " 'Indians watch Baseball',\n",
              " 'Indians watch Cricket']"
            ]
          },
          "metadata": {},
          "execution_count": 11
        }
      ]
    },
    {
      "cell_type": "code",
      "metadata": {
        "id": "Zxbl9dKOHm_t"
      },
      "source": [
        ""
      ],
      "execution_count": null,
      "outputs": []
    }
  ]
}