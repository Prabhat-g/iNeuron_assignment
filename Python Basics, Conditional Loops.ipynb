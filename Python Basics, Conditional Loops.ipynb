{
  "nbformat": 4,
  "nbformat_minor": 0,
  "metadata": {
    "colab": {
      "name": "Assignment1.ipynb",
      "provenance": [],
      "collapsed_sections": []
    },
    "kernelspec": {
      "name": "python3",
      "display_name": "Python 3"
    },
    "language_info": {
      "name": "python"
    }
  },
  "cells": [
    {
      "cell_type": "markdown",
      "metadata": {
        "id": "43dGtzys2-FI"
      },
      "source": [
        "Q1.Write a program which will find all such numbers which are divisible by 7 but are not a multiple of 5, between 2000 and 3200 (both included). The numbers obtained should be printed\n",
        "in a comma-separated sequence on a single line."
      ]
    },
    {
      "cell_type": "code",
      "metadata": {
        "id": "jhMXuwEs2_6M"
      },
      "source": [
        "import numpy as np\n",
        "import math"
      ],
      "execution_count": null,
      "outputs": []
    },
    {
      "cell_type": "code",
      "metadata": {
        "id": "LtO70GANB7M9"
      },
      "source": [
        "def print_div_num(strt,last):\n",
        "\n",
        "  \"\"\"\n",
        "  Print number start from strt till last which is divisible by 7 and not by 5\n",
        "  \"\"\"\n",
        "  # First we need to find the number which is  greater than equal to 2000 and divisible by 7.\n",
        "\n",
        "  strt = math.ceil(strt/7) * 7\n",
        "\n",
        "  # Get all the number divisible by 7\n",
        "\n",
        "  m = np.arange(strt,last,7)\n",
        "\n",
        "  # Filter out number which is divisible by 5.\n",
        "\n",
        "  x = [i for i in m if (i%5 !=0)]\n",
        "  print(','.join(map(str, x)))"
      ],
      "execution_count": null,
      "outputs": []
    },
    {
      "cell_type": "code",
      "metadata": {
        "colab": {
          "base_uri": "https://localhost:8080/"
        },
        "id": "RTzm5eT-C1g-",
        "outputId": "9e8884fb-fad2-4baf-c865-e0162d807dc4"
      },
      "source": [
        "print_div_num(2000,3200)"
      ],
      "execution_count": null,
      "outputs": [
        {
          "output_type": "stream",
          "name": "stdout",
          "text": [
            "2002,2009,2016,2023,2037,2044,2051,2058,2072,2079,2086,2093,2107,2114,2121,2128,2142,2149,2156,2163,2177,2184,2191,2198,2212,2219,2226,2233,2247,2254,2261,2268,2282,2289,2296,2303,2317,2324,2331,2338,2352,2359,2366,2373,2387,2394,2401,2408,2422,2429,2436,2443,2457,2464,2471,2478,2492,2499,2506,2513,2527,2534,2541,2548,2562,2569,2576,2583,2597,2604,2611,2618,2632,2639,2646,2653,2667,2674,2681,2688,2702,2709,2716,2723,2737,2744,2751,2758,2772,2779,2786,2793,2807,2814,2821,2828,2842,2849,2856,2863,2877,2884,2891,2898,2912,2919,2926,2933,2947,2954,2961,2968,2982,2989,2996,3003,3017,3024,3031,3038,3052,3059,3066,3073,3087,3094,3101,3108,3122,3129,3136,3143,3157,3164,3171,3178,3192,3199\n"
          ]
        }
      ]
    },
    {
      "cell_type": "code",
      "metadata": {
        "id": "VjViSNwE7s-Q"
      },
      "source": [
        ""
      ],
      "execution_count": null,
      "outputs": []
    },
    {
      "cell_type": "code",
      "metadata": {
        "id": "J6BBRZwH7tA1"
      },
      "source": [
        ""
      ],
      "execution_count": null,
      "outputs": []
    },
    {
      "cell_type": "markdown",
      "metadata": {
        "id": "kAYC78k17urO"
      },
      "source": [
        "Q2. Write a Python program to accept the user's first and last name and then getting them printed in the the reverse order with a space between first name and last name."
      ]
    },
    {
      "cell_type": "code",
      "metadata": {
        "id": "Nkwc6rFz7tEL"
      },
      "source": [
        "def reverse_name():\n",
        "\n",
        "  first_name = input()\n",
        "  last_name = input()\n",
        "  print(first_name[::-1],'',last_name[::-1])"
      ],
      "execution_count": null,
      "outputs": []
    },
    {
      "cell_type": "code",
      "metadata": {
        "id": "WZt9cCo88MJv"
      },
      "source": [
        "reverse_name()"
      ],
      "execution_count": null,
      "outputs": []
    },
    {
      "cell_type": "code",
      "metadata": {
        "id": "8pKwPFMM8Tqn"
      },
      "source": [
        ""
      ],
      "execution_count": null,
      "outputs": []
    },
    {
      "cell_type": "markdown",
      "metadata": {
        "id": "FJdEF6kT94Rt"
      },
      "source": [
        "Q3.Write a Python program to find the volume of a sphere with diameter 12 cm."
      ]
    },
    {
      "cell_type": "code",
      "metadata": {
        "id": "W2YrUDlo994E"
      },
      "source": [
        "pi = math.pi"
      ],
      "execution_count": null,
      "outputs": []
    },
    {
      "cell_type": "code",
      "metadata": {
        "id": "ermbkCBv9-qq"
      },
      "source": [
        "def find_vol(dia):\n",
        "  \"\"\"\n",
        "  Provide diameter in cm\n",
        "  \"\"\"\n",
        "  \n",
        "  r = dia/2\n",
        "  print ('Volume of sphere with diameter ', dia, 'cm is : ' ,(4/3)*(pi)*(r**3),'cm cube')"
      ],
      "execution_count": null,
      "outputs": []
    },
    {
      "cell_type": "code",
      "metadata": {
        "colab": {
          "base_uri": "https://localhost:8080/"
        },
        "id": "G31ZqiSH9-tW",
        "outputId": "7e208ae0-1c64-4e99-879a-9f4625d8affb"
      },
      "source": [
        "find_vol(12)"
      ],
      "execution_count": null,
      "outputs": [
        {
          "output_type": "stream",
          "name": "stdout",
          "text": [
            "Volume of sphere with diameter  12 cm is :  904.7786842338603 cm cube\n"
          ]
        }
      ]
    },
    {
      "cell_type": "code",
      "metadata": {
        "id": "GdBry5Uv9-xH"
      },
      "source": [
        ""
      ],
      "execution_count": null,
      "outputs": []
    }
  ]
}